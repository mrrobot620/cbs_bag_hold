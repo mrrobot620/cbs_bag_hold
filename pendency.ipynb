{
 "cells": [
  {
   "cell_type": "code",
   "execution_count": 1,
   "metadata": {},
   "outputs": [
    {
     "data": {
      "text/plain": [
       "bag_type_ph\n",
       "B5    19098\n",
       "ZO    33233\n",
       "Name: tracking_id_ekart, dtype: int64"
      ]
     },
     "execution_count": 1,
     "metadata": {},
     "output_type": "execute_result"
    }
   ],
   "source": [
    "import pandas as pd\n",
    "\n",
    "df_ppph = pd.read_csv('ykb_pendency_automation_PPPH.csv')\n",
    "\n",
    "df_ppph_zone_wise = df_ppph.groupby('bag_type_ph')['tracking_id_ekart'].sum()\n",
    "\n",
    "df_ppph_zone_wise"
   ]
  },
  {
   "cell_type": "code",
   "execution_count": 2,
   "metadata": {},
   "outputs": [
    {
     "name": "stdout",
     "output_type": "stream",
     "text": [
      "ZO PPPH PH: 807\n",
      "ZO PPPH SPH: 32426\n",
      "Total ZO Pending:  33233\n"
     ]
    }
   ],
   "source": [
    "df_ppph_zo = df_ppph[df_ppph['bag_type_ph'] == \"ZO\"]\n",
    "\n",
    "df_ppph_zo_ph  = df_ppph_zo[df_ppph_zo['bag_facility_source_name'].str.contains(\"DEL_PL|Bilaspur|Bhiwani\")]\n",
    "zo_ph_shipment_count  = df_ppph_zo_ph['tracking_id_ekart'].sum()\n",
    "df_ppph_zo_sph = df_ppph_zo[~df_ppph_zo.index.isin(df_ppph_zo_ph.index)]\n",
    "zo_sph_shipment_count = df_ppph_zo_sph['tracking_id_ekart'].sum()\n",
    "\n",
    "print(f\"ZO PPPH PH: {zo_ph_shipment_count}\")\n",
    "print(f\"ZO PPPH SPH: {zo_sph_shipment_count}\")\n",
    "\n",
    "print(f\"Total ZO Pending:  {zo_ph_shipment_count + zo_sph_shipment_count}\")"
   ]
  },
  {
   "cell_type": "code",
   "execution_count": 3,
   "metadata": {},
   "outputs": [
    {
     "name": "stdout",
     "output_type": "stream",
     "text": [
      "ZO PPPH PH: 627\n",
      "ZO PPPH SPH: 18471\n",
      "Total ZO Pending:  19098\n"
     ]
    }
   ],
   "source": [
    "df_ppph_b5 = df_ppph[df_ppph['bag_type_ph'] == \"B5\"]\n",
    "\n",
    "\n",
    "df_ppph_b5_ph = df_ppph_b5[df_ppph_b5['bag_facility_source_name'].str.contains(\"DEL_PL|Bilaspur|Bhiwani\")]\n",
    "b5_ph_shipment_count = df_ppph_b5_ph['tracking_id_ekart'].sum()\n",
    "\n",
    "df_ppph_b5_sph = df_ppph_b5[~df_ppph_b5.index.isin(df_ppph_b5_ph.index)]\n",
    "b5_sph_shipment_count = df_ppph_b5_sph['tracking_id_ekart'].sum()\n",
    "\n",
    "\n",
    "print(f\"B5 PPPH PH: {b5_ph_shipment_count}\")\n",
    "print(f\"B5 PPPH SPH: {b5_sph_shipment_count}\")\n",
    "\n",
    "print(f\"Total B5 Pending:  {b5_ph_shipment_count + b5_sph_shipment_count}\")"
   ]
  },
  {
   "cell_type": "code",
   "execution_count": null,
   "metadata": {},
   "outputs": [],
   "source": []
  }
 ],
 "metadata": {
  "kernelspec": {
   "display_name": "Python 3",
   "language": "python",
   "name": "python3"
  },
  "language_info": {
   "codemirror_mode": {
    "name": "ipython",
    "version": 3
   },
   "file_extension": ".py",
   "mimetype": "text/x-python",
   "name": "python",
   "nbconvert_exporter": "python",
   "pygments_lexer": "ipython3",
   "version": "3.12.0"
  }
 },
 "nbformat": 4,
 "nbformat_minor": 2
}
