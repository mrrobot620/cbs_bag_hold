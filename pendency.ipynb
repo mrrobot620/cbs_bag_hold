{
 "cells": [
  {
   "cell_type": "code",
   "execution_count": 51,
   "metadata": {},
   "outputs": [],
   "source": [
    "import pandas as pd\n",
    "df_ppph = pd.read_csv('ykb_pendency_automation_PPPH.csv')\n"
   ]
  },
  {
   "cell_type": "code",
   "execution_count": 52,
   "metadata": {},
   "outputs": [
    {
     "data": {
      "text/plain": [
       "shipment_facility_current_name\n",
       "CentralHub_FPT               2\n",
       "CentralHub_L_LUHX1           1\n",
       "MotherHub_BNL              493\n",
       "MotherHub_FRK                9\n",
       "MotherHub_YKB            49068\n",
       "Motherhub_ABD_EXT_VMH        4\n",
       "Motherhub_GGN              255\n",
       "Motherhub_JKS               25\n",
       "Motherhub_SAI_4              1\n",
       "Motherhub_ULB_flex          25\n",
       "Name: tracking_id_ekart, dtype: int64"
      ]
     },
     "execution_count": 52,
     "metadata": {},
     "output_type": "execute_result"
    }
   ],
   "source": [
    "df_ppph_ykb = df_ppph.groupby('shipment_facility_current_name')['tracking_id_ekart'].sum()\n",
    "df_ppph_ykb"
   ]
  },
  {
   "cell_type": "code",
   "execution_count": 53,
   "metadata": {},
   "outputs": [
    {
     "data": {
      "text/plain": [
       "bag_type_ph\n",
       "B5    26029\n",
       "ZO    23854\n",
       "Name: tracking_id_ekart, dtype: int64"
      ]
     },
     "execution_count": 53,
     "metadata": {},
     "output_type": "execute_result"
    }
   ],
   "source": [
    "df_ppph_zone_wise = df_ppph.groupby('bag_type_ph')['tracking_id_ekart'].sum()\n",
    "\n",
    "df_ppph_zone_wise"
   ]
  },
  {
   "cell_type": "code",
   "execution_count": 54,
   "metadata": {},
   "outputs": [
    {
     "data": {
      "text/html": [
       "<div>\n",
       "<style scoped>\n",
       "    .dataframe tbody tr th:only-of-type {\n",
       "        vertical-align: middle;\n",
       "    }\n",
       "\n",
       "    .dataframe tbody tr th {\n",
       "        vertical-align: top;\n",
       "    }\n",
       "\n",
       "    .dataframe thead th {\n",
       "        text-align: right;\n",
       "    }\n",
       "</style>\n",
       "<table border=\"1\" class=\"dataframe\">\n",
       "  <thead>\n",
       "    <tr style=\"text-align: right;\">\n",
       "      <th></th>\n",
       "      <th>bag_facility_source_name</th>\n",
       "      <th>bag_facility_destination_name</th>\n",
       "      <th>bag_type_ph</th>\n",
       "      <th>tracking_id_ekart</th>\n",
       "      <th>bag_id</th>\n",
       "      <th>shipment_facility_current_name</th>\n",
       "    </tr>\n",
       "  </thead>\n",
       "  <tbody>\n",
       "    <tr>\n",
       "      <th>0</th>\n",
       "      <td>NajafgarhHub_DEL_PL</td>\n",
       "      <td>MotherHub_YKB</td>\n",
       "      <td>ZO</td>\n",
       "      <td>3075</td>\n",
       "      <td>132</td>\n",
       "      <td>MotherHub_YKB</td>\n",
       "    </tr>\n",
       "    <tr>\n",
       "      <th>1</th>\n",
       "      <td>IPextension_DEL_PL</td>\n",
       "      <td>MotherHub_YKB</td>\n",
       "      <td>B5</td>\n",
       "      <td>3161</td>\n",
       "      <td>122</td>\n",
       "      <td>MotherHub_YKB</td>\n",
       "    </tr>\n",
       "    <tr>\n",
       "      <th>2</th>\n",
       "      <td>IPextension_DEL_PL</td>\n",
       "      <td>MotherHub_YKB</td>\n",
       "      <td>ZO</td>\n",
       "      <td>2928</td>\n",
       "      <td>132</td>\n",
       "      <td>MotherHub_YKB</td>\n",
       "    </tr>\n",
       "    <tr>\n",
       "      <th>3</th>\n",
       "      <td>Peeragarhi_DEL_PL</td>\n",
       "      <td>MotherHub_YKB</td>\n",
       "      <td>B5</td>\n",
       "      <td>1597</td>\n",
       "      <td>63</td>\n",
       "      <td>MotherHub_YKB</td>\n",
       "    </tr>\n",
       "    <tr>\n",
       "      <th>4</th>\n",
       "      <td>UttamNagarHub_DEL_PL</td>\n",
       "      <td>MotherHub_YKB</td>\n",
       "      <td>ZO</td>\n",
       "      <td>3437</td>\n",
       "      <td>116</td>\n",
       "      <td>MotherHub_YKB</td>\n",
       "    </tr>\n",
       "    <tr>\n",
       "      <th>...</th>\n",
       "      <td>...</td>\n",
       "      <td>...</td>\n",
       "      <td>...</td>\n",
       "      <td>...</td>\n",
       "      <td>...</td>\n",
       "      <td>...</td>\n",
       "    </tr>\n",
       "    <tr>\n",
       "      <th>173</th>\n",
       "      <td>DholpurHub_DLP_PL</td>\n",
       "      <td>MotherHub_YKB</td>\n",
       "      <td>ZO</td>\n",
       "      <td>1</td>\n",
       "      <td>1</td>\n",
       "      <td>MotherHub_YKB</td>\n",
       "    </tr>\n",
       "    <tr>\n",
       "      <th>176</th>\n",
       "      <td>AmrohaHub_AOA_PL</td>\n",
       "      <td>MotherHub_YKB</td>\n",
       "      <td>B5</td>\n",
       "      <td>2</td>\n",
       "      <td>2</td>\n",
       "      <td>MotherHub_YKB</td>\n",
       "    </tr>\n",
       "    <tr>\n",
       "      <th>177</th>\n",
       "      <td>KarnalHub_KAL_PL</td>\n",
       "      <td>MotherHub_YKB</td>\n",
       "      <td>B5</td>\n",
       "      <td>1</td>\n",
       "      <td>1</td>\n",
       "      <td>MotherHub_YKB</td>\n",
       "    </tr>\n",
       "    <tr>\n",
       "      <th>178</th>\n",
       "      <td>BadshahpurHub_DEL_PL</td>\n",
       "      <td>MotherHub_YKB</td>\n",
       "      <td>B5</td>\n",
       "      <td>3</td>\n",
       "      <td>2</td>\n",
       "      <td>MotherHub_YKB</td>\n",
       "    </tr>\n",
       "    <tr>\n",
       "      <th>180</th>\n",
       "      <td>HathrasHub_HTH_PL</td>\n",
       "      <td>MotherHub_YKB</td>\n",
       "      <td>ZO</td>\n",
       "      <td>1</td>\n",
       "      <td>1</td>\n",
       "      <td>MotherHub_YKB</td>\n",
       "    </tr>\n",
       "  </tbody>\n",
       "</table>\n",
       "<p>150 rows × 6 columns</p>\n",
       "</div>"
      ],
      "text/plain": [
       "    bag_facility_source_name bag_facility_destination_name bag_type_ph  \\\n",
       "0        NajafgarhHub_DEL_PL                 MotherHub_YKB          ZO   \n",
       "1         IPextension_DEL_PL                 MotherHub_YKB          B5   \n",
       "2         IPextension_DEL_PL                 MotherHub_YKB          ZO   \n",
       "3          Peeragarhi_DEL_PL                 MotherHub_YKB          B5   \n",
       "4       UttamNagarHub_DEL_PL                 MotherHub_YKB          ZO   \n",
       "..                       ...                           ...         ...   \n",
       "173        DholpurHub_DLP_PL                 MotherHub_YKB          ZO   \n",
       "176         AmrohaHub_AOA_PL                 MotherHub_YKB          B5   \n",
       "177         KarnalHub_KAL_PL                 MotherHub_YKB          B5   \n",
       "178     BadshahpurHub_DEL_PL                 MotherHub_YKB          B5   \n",
       "180        HathrasHub_HTH_PL                 MotherHub_YKB          ZO   \n",
       "\n",
       "     tracking_id_ekart  bag_id shipment_facility_current_name  \n",
       "0                 3075     132                  MotherHub_YKB  \n",
       "1                 3161     122                  MotherHub_YKB  \n",
       "2                 2928     132                  MotherHub_YKB  \n",
       "3                 1597      63                  MotherHub_YKB  \n",
       "4                 3437     116                  MotherHub_YKB  \n",
       "..                 ...     ...                            ...  \n",
       "173                  1       1                  MotherHub_YKB  \n",
       "176                  2       2                  MotherHub_YKB  \n",
       "177                  1       1                  MotherHub_YKB  \n",
       "178                  3       2                  MotherHub_YKB  \n",
       "180                  1       1                  MotherHub_YKB  \n",
       "\n",
       "[150 rows x 6 columns]"
      ]
     },
     "execution_count": 54,
     "metadata": {},
     "output_type": "execute_result"
    }
   ],
   "source": [
    "df_ppph = df_ppph[df_ppph['shipment_facility_current_name'] == \"MotherHub_YKB\"]\n",
    "\n",
    "df_ppph"
   ]
  },
  {
   "cell_type": "code",
   "execution_count": 55,
   "metadata": {},
   "outputs": [
    {
     "name": "stdout",
     "output_type": "stream",
     "text": [
      "ZO PPPH PH: 20866\n",
      "ZO PPPH SPH: 2475\n",
      "Total ZO Pending:  23341\n"
     ]
    }
   ],
   "source": [
    "df_ppph_zo = df_ppph[df_ppph['bag_type_ph'] == \"ZO\"]\n",
    "\n",
    "df_ppph_zo_ph  = df_ppph_zo[df_ppph_zo['bag_facility_source_name'].str.contains(\"DEL_PL|Bilaspur|Bhiwani|Bhiwadi\")]\n",
    "zo_ph_shipment_count  = df_ppph_zo_ph['tracking_id_ekart'].sum()\n",
    "df_ppph_zo_sph = df_ppph_zo[~df_ppph_zo.index.isin(df_ppph_zo_ph.index)]\n",
    "zo_sph_shipment_count = df_ppph_zo_sph['tracking_id_ekart'].sum()\n",
    "\n",
    "print(f\"ZO PPPH PH: {zo_ph_shipment_count}\")\n",
    "print(f\"ZO PPPH SPH: {zo_sph_shipment_count}\")\n",
    "\n",
    "print(f\"Total ZO Pending:  {zo_ph_shipment_count + zo_sph_shipment_count}\")"
   ]
  },
  {
   "cell_type": "code",
   "execution_count": 56,
   "metadata": {},
   "outputs": [
    {
     "name": "stdout",
     "output_type": "stream",
     "text": [
      "B5 PPPH PH: 23626\n",
      "B5 PPPH SPH: 2101\n",
      "Total B5 Pending:  25727\n"
     ]
    }
   ],
   "source": [
    "df_ppph_b5 = df_ppph[df_ppph['bag_type_ph'] == \"B5\"]\n",
    "\n",
    "\n",
    "df_ppph_b5_ph = df_ppph_b5[df_ppph_b5['bag_facility_source_name'].str.contains(\"DEL_PL|Bilaspur|Bhiwani\")]\n",
    "b5_ph_shipment_count = df_ppph_b5_ph['tracking_id_ekart'].sum()\n",
    "\n",
    "df_ppph_b5_sph = df_ppph_b5[~df_ppph_b5.index.isin(df_ppph_b5_ph.index)]\n",
    "b5_sph_shipment_count = df_ppph_b5_sph['tracking_id_ekart'].sum()\n",
    "\n",
    "\n",
    "print(f\"B5 PPPH PH: {b5_ph_shipment_count}\")\n",
    "print(f\"B5 PPPH SPH: {b5_sph_shipment_count}\")\n",
    "\n",
    "print(f\"Total B5 Pending:  {b5_ph_shipment_count + b5_sph_shipment_count}\")"
   ]
  },
  {
   "cell_type": "code",
   "execution_count": null,
   "metadata": {},
   "outputs": [],
   "source": []
  }
 ],
 "metadata": {
  "kernelspec": {
   "display_name": "Python 3",
   "language": "python",
   "name": "python3"
  },
  "language_info": {
   "codemirror_mode": {
    "name": "ipython",
    "version": 3
   },
   "file_extension": ".py",
   "mimetype": "text/x-python",
   "name": "python",
   "nbconvert_exporter": "python",
   "pygments_lexer": "ipython3",
   "version": "3.12.0"
  }
 },
 "nbformat": 4,
 "nbformat_minor": 2
}
