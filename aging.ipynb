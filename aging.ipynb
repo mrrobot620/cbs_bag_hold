{
 "cells": [
  {
   "cell_type": "code",
   "execution_count": 40,
   "metadata": {},
   "outputs": [
    {
     "ename": "FileNotFoundError",
     "evalue": "[Errno 2] No such file or directory: 'Pendency_automation_report_ageing_greater_than_12.csv'",
     "output_type": "error",
     "traceback": [
      "\u001b[0;31m---------------------------------------------------------------------------\u001b[0m",
      "\u001b[0;31mFileNotFoundError\u001b[0m                         Traceback (most recent call last)",
      "\u001b[1;32m/Users/abhishekrajput/Desktop/cbs_bag_hold/aging.ipynb Cell 1\u001b[0m line \u001b[0;36m1\n\u001b[1;32m      <a href='vscode-notebook-cell:/Users/abhishekrajput/Desktop/cbs_bag_hold/aging.ipynb#W0sZmlsZQ%3D%3D?line=6'>7</a>\u001b[0m time_zone \u001b[39m=\u001b[39m pytz\u001b[39m.\u001b[39mtimezone(\u001b[39m'\u001b[39m\u001b[39mAsia/Kolkata\u001b[39m\u001b[39m'\u001b[39m)\n\u001b[1;32m      <a href='vscode-notebook-cell:/Users/abhishekrajput/Desktop/cbs_bag_hold/aging.ipynb#W0sZmlsZQ%3D%3D?line=7'>8</a>\u001b[0m current_time\u001b[39m=\u001b[39m datetime\u001b[39m.\u001b[39mnow(time_zone)\n\u001b[0;32m---> <a href='vscode-notebook-cell:/Users/abhishekrajput/Desktop/cbs_bag_hold/aging.ipynb#W0sZmlsZQ%3D%3D?line=9'>10</a>\u001b[0m df \u001b[39m=\u001b[39m pd\u001b[39m.\u001b[39;49mread_csv(\u001b[39m\"\u001b[39;49m\u001b[39mPendency_automation_report_ageing_greater_than_12.csv\u001b[39;49m\u001b[39m\"\u001b[39;49m)\n\u001b[1;32m     <a href='vscode-notebook-cell:/Users/abhishekrajput/Desktop/cbs_bag_hold/aging.ipynb#W0sZmlsZQ%3D%3D?line=10'>11</a>\u001b[0m df\n",
      "File \u001b[0;32m/Library/Frameworks/Python.framework/Versions/3.12/lib/python3.12/site-packages/pandas/io/parsers/readers.py:948\u001b[0m, in \u001b[0;36mread_csv\u001b[0;34m(filepath_or_buffer, sep, delimiter, header, names, index_col, usecols, dtype, engine, converters, true_values, false_values, skipinitialspace, skiprows, skipfooter, nrows, na_values, keep_default_na, na_filter, verbose, skip_blank_lines, parse_dates, infer_datetime_format, keep_date_col, date_parser, date_format, dayfirst, cache_dates, iterator, chunksize, compression, thousands, decimal, lineterminator, quotechar, quoting, doublequote, escapechar, comment, encoding, encoding_errors, dialect, on_bad_lines, delim_whitespace, low_memory, memory_map, float_precision, storage_options, dtype_backend)\u001b[0m\n\u001b[1;32m    935\u001b[0m kwds_defaults \u001b[39m=\u001b[39m _refine_defaults_read(\n\u001b[1;32m    936\u001b[0m     dialect,\n\u001b[1;32m    937\u001b[0m     delimiter,\n\u001b[0;32m   (...)\u001b[0m\n\u001b[1;32m    944\u001b[0m     dtype_backend\u001b[39m=\u001b[39mdtype_backend,\n\u001b[1;32m    945\u001b[0m )\n\u001b[1;32m    946\u001b[0m kwds\u001b[39m.\u001b[39mupdate(kwds_defaults)\n\u001b[0;32m--> 948\u001b[0m \u001b[39mreturn\u001b[39;00m _read(filepath_or_buffer, kwds)\n",
      "File \u001b[0;32m/Library/Frameworks/Python.framework/Versions/3.12/lib/python3.12/site-packages/pandas/io/parsers/readers.py:611\u001b[0m, in \u001b[0;36m_read\u001b[0;34m(filepath_or_buffer, kwds)\u001b[0m\n\u001b[1;32m    608\u001b[0m _validate_names(kwds\u001b[39m.\u001b[39mget(\u001b[39m\"\u001b[39m\u001b[39mnames\u001b[39m\u001b[39m\"\u001b[39m, \u001b[39mNone\u001b[39;00m))\n\u001b[1;32m    610\u001b[0m \u001b[39m# Create the parser.\u001b[39;00m\n\u001b[0;32m--> 611\u001b[0m parser \u001b[39m=\u001b[39m TextFileReader(filepath_or_buffer, \u001b[39m*\u001b[39;49m\u001b[39m*\u001b[39;49mkwds)\n\u001b[1;32m    613\u001b[0m \u001b[39mif\u001b[39;00m chunksize \u001b[39mor\u001b[39;00m iterator:\n\u001b[1;32m    614\u001b[0m     \u001b[39mreturn\u001b[39;00m parser\n",
      "File \u001b[0;32m/Library/Frameworks/Python.framework/Versions/3.12/lib/python3.12/site-packages/pandas/io/parsers/readers.py:1448\u001b[0m, in \u001b[0;36mTextFileReader.__init__\u001b[0;34m(self, f, engine, **kwds)\u001b[0m\n\u001b[1;32m   1445\u001b[0m     \u001b[39mself\u001b[39m\u001b[39m.\u001b[39moptions[\u001b[39m\"\u001b[39m\u001b[39mhas_index_names\u001b[39m\u001b[39m\"\u001b[39m] \u001b[39m=\u001b[39m kwds[\u001b[39m\"\u001b[39m\u001b[39mhas_index_names\u001b[39m\u001b[39m\"\u001b[39m]\n\u001b[1;32m   1447\u001b[0m \u001b[39mself\u001b[39m\u001b[39m.\u001b[39mhandles: IOHandles \u001b[39m|\u001b[39m \u001b[39mNone\u001b[39;00m \u001b[39m=\u001b[39m \u001b[39mNone\u001b[39;00m\n\u001b[0;32m-> 1448\u001b[0m \u001b[39mself\u001b[39m\u001b[39m.\u001b[39m_engine \u001b[39m=\u001b[39m \u001b[39mself\u001b[39;49m\u001b[39m.\u001b[39;49m_make_engine(f, \u001b[39mself\u001b[39;49m\u001b[39m.\u001b[39;49mengine)\n",
      "File \u001b[0;32m/Library/Frameworks/Python.framework/Versions/3.12/lib/python3.12/site-packages/pandas/io/parsers/readers.py:1705\u001b[0m, in \u001b[0;36mTextFileReader._make_engine\u001b[0;34m(self, f, engine)\u001b[0m\n\u001b[1;32m   1703\u001b[0m     \u001b[39mif\u001b[39;00m \u001b[39m\"\u001b[39m\u001b[39mb\u001b[39m\u001b[39m\"\u001b[39m \u001b[39mnot\u001b[39;00m \u001b[39min\u001b[39;00m mode:\n\u001b[1;32m   1704\u001b[0m         mode \u001b[39m+\u001b[39m\u001b[39m=\u001b[39m \u001b[39m\"\u001b[39m\u001b[39mb\u001b[39m\u001b[39m\"\u001b[39m\n\u001b[0;32m-> 1705\u001b[0m \u001b[39mself\u001b[39m\u001b[39m.\u001b[39mhandles \u001b[39m=\u001b[39m get_handle(\n\u001b[1;32m   1706\u001b[0m     f,\n\u001b[1;32m   1707\u001b[0m     mode,\n\u001b[1;32m   1708\u001b[0m     encoding\u001b[39m=\u001b[39;49m\u001b[39mself\u001b[39;49m\u001b[39m.\u001b[39;49moptions\u001b[39m.\u001b[39;49mget(\u001b[39m\"\u001b[39;49m\u001b[39mencoding\u001b[39;49m\u001b[39m\"\u001b[39;49m, \u001b[39mNone\u001b[39;49;00m),\n\u001b[1;32m   1709\u001b[0m     compression\u001b[39m=\u001b[39;49m\u001b[39mself\u001b[39;49m\u001b[39m.\u001b[39;49moptions\u001b[39m.\u001b[39;49mget(\u001b[39m\"\u001b[39;49m\u001b[39mcompression\u001b[39;49m\u001b[39m\"\u001b[39;49m, \u001b[39mNone\u001b[39;49;00m),\n\u001b[1;32m   1710\u001b[0m     memory_map\u001b[39m=\u001b[39;49m\u001b[39mself\u001b[39;49m\u001b[39m.\u001b[39;49moptions\u001b[39m.\u001b[39;49mget(\u001b[39m\"\u001b[39;49m\u001b[39mmemory_map\u001b[39;49m\u001b[39m\"\u001b[39;49m, \u001b[39mFalse\u001b[39;49;00m),\n\u001b[1;32m   1711\u001b[0m     is_text\u001b[39m=\u001b[39;49mis_text,\n\u001b[1;32m   1712\u001b[0m     errors\u001b[39m=\u001b[39;49m\u001b[39mself\u001b[39;49m\u001b[39m.\u001b[39;49moptions\u001b[39m.\u001b[39;49mget(\u001b[39m\"\u001b[39;49m\u001b[39mencoding_errors\u001b[39;49m\u001b[39m\"\u001b[39;49m, \u001b[39m\"\u001b[39;49m\u001b[39mstrict\u001b[39;49m\u001b[39m\"\u001b[39;49m),\n\u001b[1;32m   1713\u001b[0m     storage_options\u001b[39m=\u001b[39;49m\u001b[39mself\u001b[39;49m\u001b[39m.\u001b[39;49moptions\u001b[39m.\u001b[39;49mget(\u001b[39m\"\u001b[39;49m\u001b[39mstorage_options\u001b[39;49m\u001b[39m\"\u001b[39;49m, \u001b[39mNone\u001b[39;49;00m),\n\u001b[1;32m   1714\u001b[0m )\n\u001b[1;32m   1715\u001b[0m \u001b[39massert\u001b[39;00m \u001b[39mself\u001b[39m\u001b[39m.\u001b[39mhandles \u001b[39mis\u001b[39;00m \u001b[39mnot\u001b[39;00m \u001b[39mNone\u001b[39;00m\n\u001b[1;32m   1716\u001b[0m f \u001b[39m=\u001b[39m \u001b[39mself\u001b[39m\u001b[39m.\u001b[39mhandles\u001b[39m.\u001b[39mhandle\n",
      "File \u001b[0;32m/Library/Frameworks/Python.framework/Versions/3.12/lib/python3.12/site-packages/pandas/io/common.py:863\u001b[0m, in \u001b[0;36mget_handle\u001b[0;34m(path_or_buf, mode, encoding, compression, memory_map, is_text, errors, storage_options)\u001b[0m\n\u001b[1;32m    858\u001b[0m \u001b[39melif\u001b[39;00m \u001b[39misinstance\u001b[39m(handle, \u001b[39mstr\u001b[39m):\n\u001b[1;32m    859\u001b[0m     \u001b[39m# Check whether the filename is to be opened in binary mode.\u001b[39;00m\n\u001b[1;32m    860\u001b[0m     \u001b[39m# Binary mode does not support 'encoding' and 'newline'.\u001b[39;00m\n\u001b[1;32m    861\u001b[0m     \u001b[39mif\u001b[39;00m ioargs\u001b[39m.\u001b[39mencoding \u001b[39mand\u001b[39;00m \u001b[39m\"\u001b[39m\u001b[39mb\u001b[39m\u001b[39m\"\u001b[39m \u001b[39mnot\u001b[39;00m \u001b[39min\u001b[39;00m ioargs\u001b[39m.\u001b[39mmode:\n\u001b[1;32m    862\u001b[0m         \u001b[39m# Encoding\u001b[39;00m\n\u001b[0;32m--> 863\u001b[0m         handle \u001b[39m=\u001b[39m \u001b[39mopen\u001b[39;49m(\n\u001b[1;32m    864\u001b[0m             handle,\n\u001b[1;32m    865\u001b[0m             ioargs\u001b[39m.\u001b[39;49mmode,\n\u001b[1;32m    866\u001b[0m             encoding\u001b[39m=\u001b[39;49mioargs\u001b[39m.\u001b[39;49mencoding,\n\u001b[1;32m    867\u001b[0m             errors\u001b[39m=\u001b[39;49merrors,\n\u001b[1;32m    868\u001b[0m             newline\u001b[39m=\u001b[39;49m\u001b[39m\"\u001b[39;49m\u001b[39m\"\u001b[39;49m,\n\u001b[1;32m    869\u001b[0m         )\n\u001b[1;32m    870\u001b[0m     \u001b[39melse\u001b[39;00m:\n\u001b[1;32m    871\u001b[0m         \u001b[39m# Binary mode\u001b[39;00m\n\u001b[1;32m    872\u001b[0m         handle \u001b[39m=\u001b[39m \u001b[39mopen\u001b[39m(handle, ioargs\u001b[39m.\u001b[39mmode)\n",
      "\u001b[0;31mFileNotFoundError\u001b[0m: [Errno 2] No such file or directory: 'Pendency_automation_report_ageing_greater_than_12.csv'"
     ]
    }
   ],
   "source": [
    "#  This code just reads the main pendency file \n",
    "\n",
    "import pandas as pd\n",
    "from datetime import datetime\n",
    "import pytz\n",
    "\n",
    "time_zone = pytz.timezone('Asia/Kolkata')\n",
    "current_time= datetime.now(time_zone)\n",
    "\n",
    "df = pd.read_csv(\"Pendency_automation_report_ageing_greater_than_12.csv\")\n",
    "df\n"
   ]
  },
  {
   "cell_type": "code",
   "execution_count": null,
   "metadata": {},
   "outputs": [
    {
     "data": {
      "text/plain": [
       "bag_type_ph\n",
       "B5    440\n",
       "ZO    673\n",
       "dtype: int64"
      ]
     },
     "execution_count": 2,
     "metadata": {},
     "output_type": "execute_result"
    }
   ],
   "source": [
    "\n",
    "df_zone_wise = df.groupby('bag_type_ph').size()\n",
    "df_zone_wise"
   ]
  },
  {
   "cell_type": "code",
   "execution_count": null,
   "metadata": {},
   "outputs": [
    {
     "name": "stdout",
     "output_type": "stream",
     "text": [
      "379\n",
      "294\n"
     ]
    }
   ],
   "source": [
    "\n",
    "# Segregated ZO PH & SPH in this Cell\n",
    "\n",
    "df_zo = df[df['bag_type_ph'] == \"ZO\"]\n",
    "df_zo\n",
    "df_zo_ph = df_zo[df_zo[\"bag_facility_source_name\"].str.contains(\"DEL_PL|Bilaspur|Bhiwani\")]\n",
    "df_zo_ph_wise = df_zo_ph.groupby('bag_facility_source_name').size()\n",
    "print(sum(df_zo_ph_wise))\n",
    "\n",
    "\n",
    "df_zo_sph = df_zo[~df_zo.index.isin(df_zo_ph.index)]\n",
    "df_zo_sph_wise = df_zo_sph.groupby('bag_facility_source_name').size()\n",
    "print(sum(df_zo_sph_wise))\n",
    "\n"
   ]
  },
  {
   "cell_type": "code",
   "execution_count": null,
   "metadata": {},
   "outputs": [
    {
     "name": "stdout",
     "output_type": "stream",
     "text": [
      "253\n",
      "187\n"
     ]
    }
   ],
   "source": [
    "# Segregated B5 PH & SPH in this cell same as above\n",
    "\n",
    "df_b5 = df[df['bag_type_ph'] == \"B5\"]\n",
    "df_b5\n",
    "\n",
    "df_b5_ph = df_b5[df_b5['bag_facility_source_name'].str.contains(\"DEL_PL|Bilaspur|Bhiwani\")]\n",
    "df_b5_ph_wise  = df_b5_ph.groupby('bag_facility_source_name').size()\n",
    "print(sum(df_b5_ph_wise))\n",
    "\n",
    "\n",
    "df_b5_sph  = df_b5[~df_b5.index.isin(df_b5_ph.index)]\n",
    "df_b5_sph_wise = df_b5_sph.groupby('bag_facility_source_name').size()\n",
    "print(sum(df_b5_sph_wise))"
   ]
  },
  {
   "cell_type": "code",
   "execution_count": null,
   "metadata": {},
   "outputs": [
    {
     "name": "stdout",
     "output_type": "stream",
     "text": [
      "ZO PH\n",
      "> 48 hours     242\n",
      "24-48 hours    137\n",
      "Name: count, dtype: int64 & total 379\n",
      "ZO SPH\n",
      "> 48 hours     175\n",
      "24-48 hours    119\n",
      "Name: count, dtype: int64  && Total:  294\n",
      "ZO Total PH + SPH =   673\n",
      " B5 PH\n",
      "> 48 hours     200\n",
      "24-48 hours     53\n",
      "Name: count, dtype: int64 && Total:  253\n",
      "B5 SPH\n",
      "24-48 hours    142\n",
      "> 48 hours      45\n",
      "Name: count, dtype: int64 && Total 187\n",
      "B5 Final PH + SPH =  440\n"
     ]
    },
    {
     "name": "stderr",
     "output_type": "stream",
     "text": [
      "/var/folders/_4/bc29t88d5ml7g9p13zkltr6w0000gn/T/ipykernel_65662/1214935561.py:16: SettingWithCopyWarning: \n",
      "A value is trying to be set on a copy of a slice from a DataFrame.\n",
      "Try using .loc[row_indexer,col_indexer] = value instead\n",
      "\n",
      "See the caveats in the documentation: https://pandas.pydata.org/pandas-docs/stable/user_guide/indexing.html#returning-a-view-versus-a-copy\n",
      "  dataframe[\"hour_diff\"] = df_hour_wise\n",
      "/var/folders/_4/bc29t88d5ml7g9p13zkltr6w0000gn/T/ipykernel_65662/1214935561.py:17: SettingWithCopyWarning: \n",
      "A value is trying to be set on a copy of a slice from a DataFrame.\n",
      "Try using .loc[row_indexer,col_indexer] = value instead\n",
      "\n",
      "See the caveats in the documentation: https://pandas.pydata.org/pandas-docs/stable/user_guide/indexing.html#returning-a-view-versus-a-copy\n",
      "  dataframe[bucket_name] = dataframe['hour_diff'].apply(categorize_time)\n",
      "/var/folders/_4/bc29t88d5ml7g9p13zkltr6w0000gn/T/ipykernel_65662/1214935561.py:16: SettingWithCopyWarning: \n",
      "A value is trying to be set on a copy of a slice from a DataFrame.\n",
      "Try using .loc[row_indexer,col_indexer] = value instead\n",
      "\n",
      "See the caveats in the documentation: https://pandas.pydata.org/pandas-docs/stable/user_guide/indexing.html#returning-a-view-versus-a-copy\n",
      "  dataframe[\"hour_diff\"] = df_hour_wise\n",
      "/var/folders/_4/bc29t88d5ml7g9p13zkltr6w0000gn/T/ipykernel_65662/1214935561.py:17: SettingWithCopyWarning: \n",
      "A value is trying to be set on a copy of a slice from a DataFrame.\n",
      "Try using .loc[row_indexer,col_indexer] = value instead\n",
      "\n",
      "See the caveats in the documentation: https://pandas.pydata.org/pandas-docs/stable/user_guide/indexing.html#returning-a-view-versus-a-copy\n",
      "  dataframe[bucket_name] = dataframe['hour_diff'].apply(categorize_time)\n",
      "/var/folders/_4/bc29t88d5ml7g9p13zkltr6w0000gn/T/ipykernel_65662/1214935561.py:16: SettingWithCopyWarning: \n",
      "A value is trying to be set on a copy of a slice from a DataFrame.\n",
      "Try using .loc[row_indexer,col_indexer] = value instead\n",
      "\n",
      "See the caveats in the documentation: https://pandas.pydata.org/pandas-docs/stable/user_guide/indexing.html#returning-a-view-versus-a-copy\n",
      "  dataframe[\"hour_diff\"] = df_hour_wise\n",
      "/var/folders/_4/bc29t88d5ml7g9p13zkltr6w0000gn/T/ipykernel_65662/1214935561.py:17: SettingWithCopyWarning: \n",
      "A value is trying to be set on a copy of a slice from a DataFrame.\n",
      "Try using .loc[row_indexer,col_indexer] = value instead\n",
      "\n",
      "See the caveats in the documentation: https://pandas.pydata.org/pandas-docs/stable/user_guide/indexing.html#returning-a-view-versus-a-copy\n",
      "  dataframe[bucket_name] = dataframe['hour_diff'].apply(categorize_time)\n",
      "/var/folders/_4/bc29t88d5ml7g9p13zkltr6w0000gn/T/ipykernel_65662/1214935561.py:16: SettingWithCopyWarning: \n",
      "A value is trying to be set on a copy of a slice from a DataFrame.\n",
      "Try using .loc[row_indexer,col_indexer] = value instead\n",
      "\n",
      "See the caveats in the documentation: https://pandas.pydata.org/pandas-docs/stable/user_guide/indexing.html#returning-a-view-versus-a-copy\n",
      "  dataframe[\"hour_diff\"] = df_hour_wise\n",
      "/var/folders/_4/bc29t88d5ml7g9p13zkltr6w0000gn/T/ipykernel_65662/1214935561.py:17: SettingWithCopyWarning: \n",
      "A value is trying to be set on a copy of a slice from a DataFrame.\n",
      "Try using .loc[row_indexer,col_indexer] = value instead\n",
      "\n",
      "See the caveats in the documentation: https://pandas.pydata.org/pandas-docs/stable/user_guide/indexing.html#returning-a-view-versus-a-copy\n",
      "  dataframe[bucket_name] = dataframe['hour_diff'].apply(categorize_time)\n"
     ]
    }
   ],
   "source": [
    "def calculate_and_categorize_time(dataframe, column_name, current_time  , bucket_name):\n",
    "    df_time_wise = pd.to_datetime(dataframe[column_name])\n",
    "    df_hour_wise = (current_time - df_time_wise) / pd.Timedelta(hours=1)\n",
    "    df_hour_wise = df_hour_wise.round().astype(int)\n",
    "    \n",
    "    def categorize_time(hour_diff):\n",
    "        if hour_diff > 48:\n",
    "            return '> 48 hours'\n",
    "        elif hour_diff > 24:\n",
    "            return '24-48 hours'\n",
    "        elif hour_diff > 11:\n",
    "            return '12-24 hours'\n",
    "        else:\n",
    "            return '< 12 hours'\n",
    "    \n",
    "    dataframe[\"hour_diff\"] = df_hour_wise\n",
    "    dataframe[bucket_name] = dataframe['hour_diff'].apply(categorize_time)\n",
    "    data = dataframe[bucket_name].value_counts()\n",
    "    return data\n",
    "\n",
    "\n",
    "final_zo_ph = calculate_and_categorize_time(df_zo_ph , 'fact_updated_at' , current_time , 'ZO PH')\n",
    "print(f\"{final_zo_ph} & total {sum(final_zo_ph)}\" )\n",
    "\n",
    "final_zo_sph = calculate_and_categorize_time(df_zo_sph , 'fact_updated_at' , current_time , \"ZO SPH\")\n",
    "print(f\"{final_zo_sph}  && Total:  {sum(final_zo_sph)}\")\n",
    "\n",
    "\n",
    "print(f\"ZO Total PH + SPH =   {sum(final_zo_sph) + sum(final_zo_ph)}\")\n",
    "\n",
    "\n",
    "final_b5_ph = calculate_and_categorize_time(df_b5_ph , 'fact_updated_at' , current_time , \"B5 PH\")\n",
    "print(f\" {final_b5_ph} && Total:  {sum(final_b5_ph)}\")\n",
    "\n",
    "final_b5_sph = calculate_and_categorize_time(df_b5_sph , 'fact_updated_at' , current_time , \"B5 SPH\")\n",
    "print(f\"{final_b5_sph} && Total {sum(final_b5_sph)}\")\n",
    "\n",
    "print(f\"B5 Final PH + SPH =  {sum(final_b5_ph) + sum(final_b5_sph)}\")"
   ]
  },
  {
   "cell_type": "code",
   "execution_count": null,
   "metadata": {},
   "outputs": [],
   "source": []
  }
 ],
 "metadata": {
  "kernelspec": {
   "display_name": "Python 3",
   "language": "python",
   "name": "python3"
  },
  "language_info": {
   "codemirror_mode": {
    "name": "ipython",
    "version": 3
   },
   "file_extension": ".py",
   "mimetype": "text/x-python",
   "name": "python",
   "nbconvert_exporter": "python",
   "pygments_lexer": "ipython3",
   "version": "3.12.0"
  }
 },
 "nbformat": 4,
 "nbformat_minor": 2
}
