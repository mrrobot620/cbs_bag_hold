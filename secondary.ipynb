{
 "cells": [
  {
   "cell_type": "code",
   "execution_count": 8,
   "metadata": {},
   "outputs": [],
   "source": [
    "import pandas as pd\n",
    "from datetime import datetime\n",
    "import pytz\n",
    "\n",
    "time_zone = pytz.timezone('Asia/Kolkata')\n",
    "current_time= datetime.now(time_zone)"
   ]
  },
  {
   "cell_type": "code",
   "execution_count": 9,
   "metadata": {},
   "outputs": [],
   "source": [
    "df_secondary = pd.read_csv('ykb_secondary_pending_abhi.csv')\n"
   ]
  },
  {
   "cell_type": "code",
   "execution_count": 10,
   "metadata": {},
   "outputs": [
    {
     "name": "stdout",
     "output_type": "stream",
     "text": [
      "bag_type_ph\n",
      "B1              1\n",
      "B2              2\n",
      "B3             49\n",
      "B4              9\n",
      "B5           6144\n",
      "B6             65\n",
      "D0LYKB         27\n",
      "MR              2\n",
      "NE              2\n",
      "ZO           1629\n",
      "ZOJFELYKB       1\n",
      "dtype: int64\n"
     ]
    }
   ],
   "source": [
    "df_secondary_zone_wise  = df_secondary.groupby('bag_type_ph').size()\n",
    "print(df_secondary_zone_wise)"
   ]
  },
  {
   "cell_type": "code",
   "execution_count": 11,
   "metadata": {},
   "outputs": [
    {
     "name": "stdout",
     "output_type": "stream",
     "text": [
      "Secondary Pending ZO PH: 1396\n",
      "Secondary Pending ZO SPH: 233\n",
      "Secondary Total Pending ZO: 1629 \n"
     ]
    },
    {
     "name": "stderr",
     "output_type": "stream",
     "text": [
      "/var/folders/_4/bc29t88d5ml7g9p13zkltr6w0000gn/T/ipykernel_10284/200542944.py:2: SettingWithCopyWarning: \n",
      "A value is trying to be set on a copy of a slice from a DataFrame\n",
      "\n",
      "See the caveats in the documentation: https://pandas.pydata.org/pandas-docs/stable/user_guide/indexing.html#returning-a-view-versus-a-copy\n",
      "  df_secondary_zo['bag_facility_source_name'].fillna(\"Not Found\" , inplace=True)\n"
     ]
    }
   ],
   "source": [
    "df_secondary_zo = df_secondary[df_secondary['bag_type_ph'] == \"ZO\"]\n",
    "df_secondary_zo['bag_facility_source_name'].fillna(\"Not Found\" , inplace=True)\n",
    "df_secondary_zo_ph  = df_secondary_zo[df_secondary_zo['bag_facility_source_name'].str.contains(\"DEL_PL|Bhiwadi|Bhiwani|Bilaspur\")]\n",
    "df_secondary_zo_sph = df_secondary_zo[~df_secondary_zo.index.isin(df_secondary_zo_ph.index)]\n",
    "\n",
    "df_secondary_zo_ph1 = df_secondary_zo_ph.groupby('bag_facility_source_name').size()\n",
    "df_secondary_zo_sph1 = df_secondary_zo_sph.groupby('bag_facility_source_name').size()\n",
    "\n",
    "print(f\"Secondary Pending ZO PH: {sum(df_secondary_zo_ph1)}\")\n",
    "print(f\"Secondary Pending ZO SPH: {sum(df_secondary_zo_sph1)}\")\n",
    "print(f\"Secondary Total Pending ZO: {sum(df_secondary_zo_ph1) + sum(df_secondary_zo_sph1)} \")\n"
   ]
  },
  {
   "cell_type": "code",
   "execution_count": 12,
   "metadata": {},
   "outputs": [
    {
     "name": "stdout",
     "output_type": "stream",
     "text": [
      "Secondary Pending B5 PH: 5780\n",
      "Secondary Pending B5 SPH: 364\n",
      "Secondary Total Pending B5: 6144 \n"
     ]
    },
    {
     "name": "stderr",
     "output_type": "stream",
     "text": [
      "/var/folders/_4/bc29t88d5ml7g9p13zkltr6w0000gn/T/ipykernel_10284/180343183.py:2: SettingWithCopyWarning: \n",
      "A value is trying to be set on a copy of a slice from a DataFrame\n",
      "\n",
      "See the caveats in the documentation: https://pandas.pydata.org/pandas-docs/stable/user_guide/indexing.html#returning-a-view-versus-a-copy\n",
      "  df_secondary_b5['bag_facility_source_name'].fillna(\"Not Found\" , inplace=True)\n"
     ]
    }
   ],
   "source": [
    "df_secondary_b5 = df_secondary[df_secondary['bag_type_ph'] == \"B5\"]\n",
    "df_secondary_b5['bag_facility_source_name'].fillna(\"Not Found\" , inplace=True)\n",
    "\n",
    "df_secondary_b5_ph = df_secondary_b5[df_secondary_b5['bag_facility_source_name'].str.contains(\"DEL_PL|BHiwadi|Bhiwani|Bilaspur\")]\n",
    "df_secondary_b5_sph = df_secondary_b5[~df_secondary_b5.index.isin(df_secondary_b5_ph.index)]\n",
    "\n",
    "df_secondary_b5_ph1 = df_secondary_b5_ph.groupby('bag_facility_source_name').size()\n",
    "df_secondary_b5_sph1 = df_secondary_b5_sph.groupby('bag_facility_source_name').size()\n",
    "\n",
    "print(f\"Secondary Pending B5 PH: {sum(df_secondary_b5_ph1)}\")\n",
    "print(f\"Secondary Pending B5 SPH: {sum(df_secondary_b5_sph1)}\")\n",
    "print(f\"Secondary Total Pending B5: {sum(df_secondary_b5_ph1) + sum(df_secondary_b5_sph1)} \")"
   ]
  },
  {
   "cell_type": "code",
   "execution_count": 13,
   "metadata": {},
   "outputs": [
    {
     "name": "stdout",
     "output_type": "stream",
     "text": [
      "ZO Secondary Pending PH: \n",
      "12-24 hours    896\n",
      "> 48 hours     326\n",
      "24-48 hours    174\n",
      "Name: count, dtype: int64\n",
      "ZO Secondary Pending SPH: \n",
      "12-24 hours    120\n",
      "> 48 hours      75\n",
      "24-48 hours     38\n",
      "Name: count, dtype: int64\n",
      "Total ZO Secondary Pending:    1629\n"
     ]
    },
    {
     "name": "stderr",
     "output_type": "stream",
     "text": [
      "/var/folders/_4/bc29t88d5ml7g9p13zkltr6w0000gn/T/ipykernel_10284/2783421177.py:17: SettingWithCopyWarning: \n",
      "A value is trying to be set on a copy of a slice from a DataFrame.\n",
      "Try using .loc[row_indexer,col_indexer] = value instead\n",
      "\n",
      "See the caveats in the documentation: https://pandas.pydata.org/pandas-docs/stable/user_guide/indexing.html#returning-a-view-versus-a-copy\n",
      "  dataframe[\"hour_diff\"] = df_hour_wise\n",
      "/var/folders/_4/bc29t88d5ml7g9p13zkltr6w0000gn/T/ipykernel_10284/2783421177.py:18: SettingWithCopyWarning: \n",
      "A value is trying to be set on a copy of a slice from a DataFrame.\n",
      "Try using .loc[row_indexer,col_indexer] = value instead\n",
      "\n",
      "See the caveats in the documentation: https://pandas.pydata.org/pandas-docs/stable/user_guide/indexing.html#returning-a-view-versus-a-copy\n",
      "  dataframe[bucket_name] = df_hour_wise.apply(categorize_time)\n",
      "/var/folders/_4/bc29t88d5ml7g9p13zkltr6w0000gn/T/ipykernel_10284/2783421177.py:17: SettingWithCopyWarning: \n",
      "A value is trying to be set on a copy of a slice from a DataFrame.\n",
      "Try using .loc[row_indexer,col_indexer] = value instead\n",
      "\n",
      "See the caveats in the documentation: https://pandas.pydata.org/pandas-docs/stable/user_guide/indexing.html#returning-a-view-versus-a-copy\n",
      "  dataframe[\"hour_diff\"] = df_hour_wise\n",
      "/var/folders/_4/bc29t88d5ml7g9p13zkltr6w0000gn/T/ipykernel_10284/2783421177.py:18: SettingWithCopyWarning: \n",
      "A value is trying to be set on a copy of a slice from a DataFrame.\n",
      "Try using .loc[row_indexer,col_indexer] = value instead\n",
      "\n",
      "See the caveats in the documentation: https://pandas.pydata.org/pandas-docs/stable/user_guide/indexing.html#returning-a-view-versus-a-copy\n",
      "  dataframe[bucket_name] = df_hour_wise.apply(categorize_time)\n",
      "/var/folders/_4/bc29t88d5ml7g9p13zkltr6w0000gn/T/ipykernel_10284/2783421177.py:17: SettingWithCopyWarning: \n",
      "A value is trying to be set on a copy of a slice from a DataFrame.\n",
      "Try using .loc[row_indexer,col_indexer] = value instead\n",
      "\n",
      "See the caveats in the documentation: https://pandas.pydata.org/pandas-docs/stable/user_guide/indexing.html#returning-a-view-versus-a-copy\n",
      "  dataframe[\"hour_diff\"] = df_hour_wise\n"
     ]
    },
    {
     "name": "stdout",
     "output_type": "stream",
     "text": [
      "B5 Secondary Pending PH: \n",
      "12-24 hours    5490\n",
      "24-48 hours     148\n",
      "> 48 hours      142\n",
      "Name: count, dtype: int64\n",
      "B5 Secondary Pending SPH: \n",
      "12-24 hours    287\n",
      "> 48 hours      39\n",
      "24-48 hours     38\n",
      "Name: count, dtype: int64\n",
      "Total B5 Secondary Pending:  6144 \n"
     ]
    },
    {
     "name": "stderr",
     "output_type": "stream",
     "text": [
      "/var/folders/_4/bc29t88d5ml7g9p13zkltr6w0000gn/T/ipykernel_10284/2783421177.py:18: SettingWithCopyWarning: \n",
      "A value is trying to be set on a copy of a slice from a DataFrame.\n",
      "Try using .loc[row_indexer,col_indexer] = value instead\n",
      "\n",
      "See the caveats in the documentation: https://pandas.pydata.org/pandas-docs/stable/user_guide/indexing.html#returning-a-view-versus-a-copy\n",
      "  dataframe[bucket_name] = df_hour_wise.apply(categorize_time)\n",
      "/var/folders/_4/bc29t88d5ml7g9p13zkltr6w0000gn/T/ipykernel_10284/2783421177.py:17: SettingWithCopyWarning: \n",
      "A value is trying to be set on a copy of a slice from a DataFrame.\n",
      "Try using .loc[row_indexer,col_indexer] = value instead\n",
      "\n",
      "See the caveats in the documentation: https://pandas.pydata.org/pandas-docs/stable/user_guide/indexing.html#returning-a-view-versus-a-copy\n",
      "  dataframe[\"hour_diff\"] = df_hour_wise\n",
      "/var/folders/_4/bc29t88d5ml7g9p13zkltr6w0000gn/T/ipykernel_10284/2783421177.py:18: SettingWithCopyWarning: \n",
      "A value is trying to be set on a copy of a slice from a DataFrame.\n",
      "Try using .loc[row_indexer,col_indexer] = value instead\n",
      "\n",
      "See the caveats in the documentation: https://pandas.pydata.org/pandas-docs/stable/user_guide/indexing.html#returning-a-view-versus-a-copy\n",
      "  dataframe[bucket_name] = df_hour_wise.apply(categorize_time)\n"
     ]
    }
   ],
   "source": [
    "def calculate_and_categorize_time(dataframe, column_name, current_time  , bucket_name):\n",
    "    df_time_wise = pd.to_datetime(dataframe[column_name])\n",
    "    df_hour_wise = (current_time - df_time_wise) / pd.Timedelta(hours=1)\n",
    "    df_hour_wise = df_hour_wise.round().astype(int)\n",
    "    \n",
    "    def categorize_time(hour_diff):\n",
    "        categories = pd.Categorical(['< 12 hours', '12-24 hours', '24-48 hours', '> 48 hours'], ordered=True)\n",
    "        if hour_diff > 48:\n",
    "            return categories[3]  # '> 48 hours'\n",
    "        elif hour_diff > 24 and hour_diff < 48:\n",
    "            return categories[2]  # '24-48 hours'\n",
    "        elif hour_diff > 11:\n",
    "            return categories[1]  # '12-24 hours'\n",
    "        else:\n",
    "            return categories[0]  # '< 12 hours'\n",
    "    \n",
    "    dataframe[\"hour_diff\"] = df_hour_wise\n",
    "    dataframe[bucket_name] = df_hour_wise.apply(categorize_time)\n",
    "    data = dataframe[bucket_name].value_counts()\n",
    "    return data\n",
    "\n",
    "\n",
    "zo_ph_secondary_total = calculate_and_categorize_time(df_secondary_zo_ph , 'fact_updated_at' , current_time , \"ZO Secondary Pending PH: \")\n",
    "print(zo_ph_secondary_total)\n",
    "\n",
    "zo_sph_secondary_total = calculate_and_categorize_time(df_secondary_zo_sph , 'fact_updated_at' , current_time , \"ZO Secondary Pending SPH: \")\n",
    "print(zo_sph_secondary_total)\n",
    "\n",
    "print(f\"Total ZO Secondary Pending:    {sum(zo_ph_secondary_total) + sum(zo_sph_secondary_total)}\")\n",
    "\n",
    "\n",
    "b5_ph_secondary_total = calculate_and_categorize_time(df_secondary_b5_ph , 'fact_updated_at' , current_time , \"B5 Secondary Pending PH: \")\n",
    "print(b5_ph_secondary_total)\n",
    "\n",
    "b5_sph_secondary_total = calculate_and_categorize_time(df_secondary_b5_sph , 'fact_updated_at' , current_time , \"B5 Secondary Pending SPH: \")\n",
    "print(b5_sph_secondary_total)\n",
    "\n",
    "print(f\"Total B5 Secondary Pending:  {sum(b5_ph_secondary_total) + sum(b5_sph_secondary_total)} \")"
   ]
  },
  {
   "cell_type": "code",
   "execution_count": null,
   "metadata": {},
   "outputs": [],
   "source": []
  }
 ],
 "metadata": {
  "kernelspec": {
   "display_name": "Python 3",
   "language": "python",
   "name": "python3"
  },
  "language_info": {
   "codemirror_mode": {
    "name": "ipython",
    "version": 3
   },
   "file_extension": ".py",
   "mimetype": "text/x-python",
   "name": "python",
   "nbconvert_exporter": "python",
   "pygments_lexer": "ipython3",
   "version": "3.11.5"
  }
 },
 "nbformat": 4,
 "nbformat_minor": 2
}
